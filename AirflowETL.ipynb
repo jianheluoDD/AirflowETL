{
 "cells": [
  {
   "cell_type": "markdown",
   "metadata": {},
   "source": [
    "# ETL Pipelines With Airflow\n",
    "\n",
    "## Introduction\n",
    "\n",
    "## Calling An API In Python\n",
    "\n",
    "## Setting Up PostgreSQL Database\n",
    "\n",
    "## Introduction Airflow \n",
    "\n",
    "## Example ETL Pipeline With Airflow"
   ]
  }
 ],
 "metadata": {
  "anaconda-cloud": {},
  "kernelspec": {
   "display_name": "Python [default]",
   "language": "python",
   "name": "python2"
  },
  "language_info": {
   "codemirror_mode": {
    "name": "ipython",
    "version": 2
   },
   "file_extension": ".py",
   "mimetype": "text/x-python",
   "name": "python",
   "nbconvert_exporter": "python",
   "pygments_lexer": "ipython2",
   "version": "2.7.13"
  }
 },
 "nbformat": 4,
 "nbformat_minor": 1
}
